{
 "cells": [
  {
   "cell_type": "code",
   "execution_count": 1,
   "id": "f3895ea6",
   "metadata": {},
   "outputs": [],
   "source": [
    "import pandas as pd\n",
    "from datasets import load_dataset\n",
    "\n",
    "dataset = load_dataset('lukebarousse/data_jobs')\n",
    "df = dataset['train'].to_pandas()\n",
    "\n",
    "df.to_csv('data_jobs_export.csv', index=False)"
   ]
  },
  {
   "cell_type": "code",
   "execution_count": 2,
   "id": "80387422",
   "metadata": {},
   "outputs": [],
   "source": [
    "df_filtered = df[df['job_title_short'] == 'Data Scientist']\n",
    "df_filtered.to_csv('data_scientist_jobs.csv', index=False)"
   ]
  },
  {
   "cell_type": "code",
   "execution_count": 3,
   "id": "b903a7e6",
   "metadata": {},
   "outputs": [
    {
     "name": "stdout",
     "output_type": "stream",
     "text": [
      "3 channel Terms of Service accepted\n",
      "Channels:\n",
      " - defaults\n",
      "Platform: win-64\n",
      "Collecting package metadata (repodata.json): done\n",
      "Solving environment: done\n",
      "\n",
      "## Package Plan ##\n",
      "\n",
      "  environment location: c:\\Users\\ishaa\\anaconda3\n",
      "\n",
      "  added / updated specs:\n",
      "    - openpyxl\n",
      "\n",
      "\n",
      "The following packages will be downloaded:\n",
      "\n",
      "    package                    |            build\n",
      "    ---------------------------|-----------------\n",
      "    ca-certificates-2025.9.9   |       haa95532_0         127 KB\n",
      "    certifi-2025.10.5          |  py313haa95532_0         157 KB\n",
      "    ------------------------------------------------------------\n",
      "                                           Total:         284 KB\n",
      "\n",
      "The following packages will be UPDATED:\n",
      "\n",
      "  ca-certificates                      2025.2.25-haa95532_0 --> 2025.9.9-haa95532_0 \n",
      "  certifi                         2025.4.26-py313haa95532_0 --> 2025.10.5-py313haa95532_0 \n",
      "\n",
      "\n",
      "\n",
      "Downloading and Extracting Packages: ...working...\n",
      "certifi-2025.10.5    | 157 KB    |            |   0% \n",
      "\n",
      "ca-certificates-2025 | 127 KB    |            |   0% \u001b[A\n",
      "certifi-2025.10.5    | 157 KB    | #          |  10% \n",
      "\n",
      "ca-certificates-2025 | 127 KB    | #2         |  13% \u001b[A\n",
      "\n",
      "ca-certificates-2025 | 127 KB    | ########## | 100% \u001b[A\n",
      "certifi-2025.10.5    | 157 KB    | ########## | 100% \n",
      "\n",
      "ca-certificates-2025 | 127 KB    | ########## | 100% \u001b[A\n",
      "certifi-2025.10.5    | 157 KB    | ########## | 100% \n",
      "certifi-2025.10.5    | 157 KB    | ########## | 100% \n",
      "                                                     \n",
      "\n",
      "\n",
      "                                                     \u001b[A done\n",
      "Preparing transaction: done\n",
      "Verifying transaction: done\n",
      "Executing transaction: done\n",
      "\n",
      "Note: you may need to restart the kernel to use updated packages.\n"
     ]
    },
    {
     "name": "stderr",
     "output_type": "stream",
     "text": [
      "\n",
      "\n",
      "==> WARNING: A newer version of conda exists. <==\n",
      "    current version: 25.5.1\n",
      "    latest version: 25.9.1\n",
      "\n",
      "Please update conda by running\n",
      "\n",
      "    $ conda update -n base -c defaults conda\n",
      "\n",
      "\n"
     ]
    }
   ],
   "source": [
    "conda install openpyxl"
   ]
  },
  {
   "cell_type": "code",
   "execution_count": 4,
   "id": "70957611",
   "metadata": {},
   "outputs": [],
   "source": [
    "import openpyxl\n",
    "import pandas as pd\n",
    "from datasets import load_dataset\n",
    "\n",
    "dataset = load_dataset('lukebarousse/data_jobs')\n",
    "df = dataset['train'].to_pandas()\n",
    "\n",
    "df_filtered = df[df['job_location'] == 'New York, NY']\n",
    "df_filtered.to_excel('new_york_jobs.xlsx', index=False)\n"
   ]
  },
  {
   "cell_type": "code",
   "execution_count": null,
   "id": "9a2bbc74",
   "metadata": {},
   "outputs": [],
   "source": []
  }
 ],
 "metadata": {
  "kernelspec": {
   "display_name": "base",
   "language": "python",
   "name": "python3"
  },
  "language_info": {
   "codemirror_mode": {
    "name": "ipython",
    "version": 3
   },
   "file_extension": ".py",
   "mimetype": "text/x-python",
   "name": "python",
   "nbconvert_exporter": "python",
   "pygments_lexer": "ipython3",
   "version": "3.13.5"
  }
 },
 "nbformat": 4,
 "nbformat_minor": 5
}
